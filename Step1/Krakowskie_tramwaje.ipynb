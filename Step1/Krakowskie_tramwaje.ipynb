{
 "cells": [
  {
   "cell_type": "code",
   "execution_count": 1,
   "metadata": {},
   "outputs": [],
   "source": [
    "import pandas as pd\n",
    "import numpy as np\n",
    "\n",
    "from sklearn.tree import DecisionTreeRegressor\n",
    "from sklearn.ensemble import RandomForestRegressor\n",
    "from sklearn.model_selection import cross_val_score\n",
    "\n",
    "%matplotlib inline"
   ]
  },
  {
   "cell_type": "markdown",
   "metadata": {},
   "source": [
    "## Reading data"
   ]
  },
  {
   "cell_type": "code",
   "execution_count": 2,
   "metadata": {},
   "outputs": [
    {
     "data": {
      "text/html": [
       "<div>\n",
       "<style scoped>\n",
       "    .dataframe tbody tr th:only-of-type {\n",
       "        vertical-align: middle;\n",
       "    }\n",
       "\n",
       "    .dataframe tbody tr th {\n",
       "        vertical-align: top;\n",
       "    }\n",
       "\n",
       "    .dataframe thead th {\n",
       "        text-align: right;\n",
       "    }\n",
       "</style>\n",
       "<table border=\"1\" class=\"dataframe\">\n",
       "  <thead>\n",
       "    <tr style=\"text-align: right;\">\n",
       "      <th></th>\n",
       "      <th>index</th>\n",
       "      <th>time_stamp</th>\n",
       "      <th>stop</th>\n",
       "      <th>stopName</th>\n",
       "      <th>number</th>\n",
       "      <th>direction</th>\n",
       "      <th>plannedTime</th>\n",
       "      <th>vehicleId</th>\n",
       "      <th>tripId</th>\n",
       "      <th>status</th>\n",
       "      <th>delay</th>\n",
       "      <th>seq_num</th>\n",
       "    </tr>\n",
       "  </thead>\n",
       "  <tbody>\n",
       "    <tr>\n",
       "      <th>0</th>\n",
       "      <td>1</td>\n",
       "      <td>2018-07-23 06:00:45</td>\n",
       "      <td>378</td>\n",
       "      <td>Os.Piastów</td>\n",
       "      <td>21</td>\n",
       "      <td>Kopiec Wandy</td>\n",
       "      <td>2018-07-23 05:59:00</td>\n",
       "      <td>NaN</td>\n",
       "      <td>6351558574044883205</td>\n",
       "      <td>PLANNED</td>\n",
       "      <td>1</td>\n",
       "      <td>1.0</td>\n",
       "    </tr>\n",
       "    <tr>\n",
       "      <th>1</th>\n",
       "      <td>1</td>\n",
       "      <td>2018-07-23 06:00:47</td>\n",
       "      <td>612</td>\n",
       "      <td>Borsucza</td>\n",
       "      <td>22</td>\n",
       "      <td>Walcownia</td>\n",
       "      <td>2018-07-23 06:00:00</td>\n",
       "      <td>6.352185e+18</td>\n",
       "      <td>6351558574044899587</td>\n",
       "      <td>STOPPING</td>\n",
       "      <td>0</td>\n",
       "      <td>7.0</td>\n",
       "    </tr>\n",
       "    <tr>\n",
       "      <th>2</th>\n",
       "      <td>1</td>\n",
       "      <td>2018-07-23 06:00:48</td>\n",
       "      <td>572</td>\n",
       "      <td>Smolki</td>\n",
       "      <td>11</td>\n",
       "      <td>Czerwone Maki P+R</td>\n",
       "      <td>2018-07-23 06:00:00</td>\n",
       "      <td>6.352185e+18</td>\n",
       "      <td>6351558574044670211</td>\n",
       "      <td>STOPPING</td>\n",
       "      <td>0</td>\n",
       "      <td>10.0</td>\n",
       "    </tr>\n",
       "    <tr>\n",
       "      <th>3</th>\n",
       "      <td>1</td>\n",
       "      <td>2018-07-23 06:00:49</td>\n",
       "      <td>319</td>\n",
       "      <td>Jubilat</td>\n",
       "      <td>1</td>\n",
       "      <td>Wzgórza K.</td>\n",
       "      <td>2018-07-23 05:59:00</td>\n",
       "      <td>NaN</td>\n",
       "      <td>6351558574044363010</td>\n",
       "      <td>PLANNED</td>\n",
       "      <td>1</td>\n",
       "      <td>3.0</td>\n",
       "    </tr>\n",
       "    <tr>\n",
       "      <th>4</th>\n",
       "      <td>1</td>\n",
       "      <td>2018-07-23 06:00:49</td>\n",
       "      <td>322</td>\n",
       "      <td>Filharmonia</td>\n",
       "      <td>8</td>\n",
       "      <td>Bronowice Małe</td>\n",
       "      <td>2018-07-23 06:01:00</td>\n",
       "      <td>6.352185e+18</td>\n",
       "      <td>6351558574044592386</td>\n",
       "      <td>STOPPING</td>\n",
       "      <td>0</td>\n",
       "      <td>15.0</td>\n",
       "    </tr>\n",
       "  </tbody>\n",
       "</table>\n",
       "</div>"
      ],
      "text/plain": [
       "   index           time_stamp  stop     stopName  number          direction  \\\n",
       "0      1  2018-07-23 06:00:45   378   Os.Piastów      21       Kopiec Wandy   \n",
       "1      1  2018-07-23 06:00:47   612     Borsucza      22          Walcownia   \n",
       "2      1  2018-07-23 06:00:48   572       Smolki      11  Czerwone Maki P+R   \n",
       "3      1  2018-07-23 06:00:49   319      Jubilat       1         Wzgórza K.   \n",
       "4      1  2018-07-23 06:00:49   322  Filharmonia       8     Bronowice Małe   \n",
       "\n",
       "           plannedTime     vehicleId               tripId    status  delay  \\\n",
       "0  2018-07-23 05:59:00           NaN  6351558574044883205   PLANNED      1   \n",
       "1  2018-07-23 06:00:00  6.352185e+18  6351558574044899587  STOPPING      0   \n",
       "2  2018-07-23 06:00:00  6.352185e+18  6351558574044670211  STOPPING      0   \n",
       "3  2018-07-23 05:59:00           NaN  6351558574044363010   PLANNED      1   \n",
       "4  2018-07-23 06:01:00  6.352185e+18  6351558574044592386  STOPPING      0   \n",
       "\n",
       "   seq_num  \n",
       "0      1.0  \n",
       "1      7.0  \n",
       "2     10.0  \n",
       "3      3.0  \n",
       "4     15.0  "
      ]
     },
     "execution_count": 2,
     "metadata": {},
     "output_type": "execute_result"
    }
   ],
   "source": [
    "df = pd.read_csv('https://raw.githubusercontent.com/aczepielik/KRKtram/master/reports/report_07-23.csv')\n",
    "df1 = pd.read_csv('https://raw.githubusercontent.com/aczepielik/KRKtram/master/reports/report_07-24.csv')\n",
    "df = pd.concat([df,df1])\n",
    "\n",
    "df.head()"
   ]
  },
  {
   "cell_type": "code",
   "execution_count": 3,
   "metadata": {},
   "outputs": [
    {
     "data": {
      "text/html": [
       "<div>\n",
       "<style scoped>\n",
       "    .dataframe tbody tr th:only-of-type {\n",
       "        vertical-align: middle;\n",
       "    }\n",
       "\n",
       "    .dataframe tbody tr th {\n",
       "        vertical-align: top;\n",
       "    }\n",
       "\n",
       "    .dataframe thead th {\n",
       "        text-align: right;\n",
       "    }\n",
       "</style>\n",
       "<table border=\"1\" class=\"dataframe\">\n",
       "  <thead>\n",
       "    <tr style=\"text-align: right;\">\n",
       "      <th></th>\n",
       "      <th>index</th>\n",
       "      <th>time_stamp</th>\n",
       "      <th>stop</th>\n",
       "      <th>stopName</th>\n",
       "      <th>number</th>\n",
       "      <th>direction</th>\n",
       "      <th>plannedTime</th>\n",
       "      <th>vehicleId</th>\n",
       "      <th>tripId</th>\n",
       "      <th>status</th>\n",
       "      <th>delay</th>\n",
       "      <th>seq_num</th>\n",
       "    </tr>\n",
       "  </thead>\n",
       "  <tbody>\n",
       "    <tr>\n",
       "      <th>0</th>\n",
       "      <td>1</td>\n",
       "      <td>2018-07-23 06:00:45</td>\n",
       "      <td>378</td>\n",
       "      <td>Os.Piastów</td>\n",
       "      <td>21</td>\n",
       "      <td>Kopiec Wandy</td>\n",
       "      <td>2018-07-23 05:59:00</td>\n",
       "      <td>NaN</td>\n",
       "      <td>6351558574044883205</td>\n",
       "      <td>PLANNED</td>\n",
       "      <td>1</td>\n",
       "      <td>1.0</td>\n",
       "    </tr>\n",
       "    <tr>\n",
       "      <th>70</th>\n",
       "      <td>3</td>\n",
       "      <td>2018-07-23 06:01:42</td>\n",
       "      <td>379</td>\n",
       "      <td>Piasta Kołodzieja</td>\n",
       "      <td>21</td>\n",
       "      <td>Kopiec Wandy</td>\n",
       "      <td>2018-07-23 06:00:00</td>\n",
       "      <td>NaN</td>\n",
       "      <td>6351558574044883205</td>\n",
       "      <td>PLANNED</td>\n",
       "      <td>1</td>\n",
       "      <td>2.0</td>\n",
       "    </tr>\n",
       "    <tr>\n",
       "      <th>135</th>\n",
       "      <td>6</td>\n",
       "      <td>2018-07-23 06:02:46</td>\n",
       "      <td>382</td>\n",
       "      <td>Kleeberga</td>\n",
       "      <td>21</td>\n",
       "      <td>Kopiec Wandy</td>\n",
       "      <td>2018-07-23 06:01:00</td>\n",
       "      <td>NaN</td>\n",
       "      <td>6351558574044883205</td>\n",
       "      <td>PLANNED</td>\n",
       "      <td>1</td>\n",
       "      <td>3.0</td>\n",
       "    </tr>\n",
       "    <tr>\n",
       "      <th>284</th>\n",
       "      <td>12</td>\n",
       "      <td>2018-07-23 06:04:54</td>\n",
       "      <td>388</td>\n",
       "      <td>Dunikowskiego</td>\n",
       "      <td>21</td>\n",
       "      <td>Kopiec Wandy</td>\n",
       "      <td>2018-07-23 06:03:00</td>\n",
       "      <td>NaN</td>\n",
       "      <td>6351558574044883205</td>\n",
       "      <td>PLANNED</td>\n",
       "      <td>1</td>\n",
       "      <td>4.0</td>\n",
       "    </tr>\n",
       "    <tr>\n",
       "      <th>414</th>\n",
       "      <td>17</td>\n",
       "      <td>2018-07-23 06:06:40</td>\n",
       "      <td>2539</td>\n",
       "      <td>Rondo Hipokratesa</td>\n",
       "      <td>21</td>\n",
       "      <td>Kopiec Wandy</td>\n",
       "      <td>2018-07-23 06:05:00</td>\n",
       "      <td>NaN</td>\n",
       "      <td>6351558574044883205</td>\n",
       "      <td>PLANNED</td>\n",
       "      <td>1</td>\n",
       "      <td>5.0</td>\n",
       "    </tr>\n",
       "    <tr>\n",
       "      <th>493</th>\n",
       "      <td>20</td>\n",
       "      <td>2018-07-23 06:07:43</td>\n",
       "      <td>392</td>\n",
       "      <td>DH Wanda</td>\n",
       "      <td>21</td>\n",
       "      <td>Kopiec Wandy</td>\n",
       "      <td>2018-07-23 06:06:00</td>\n",
       "      <td>NaN</td>\n",
       "      <td>6351558574044883205</td>\n",
       "      <td>PLANNED</td>\n",
       "      <td>1</td>\n",
       "      <td>6.0</td>\n",
       "    </tr>\n",
       "    <tr>\n",
       "      <th>697</th>\n",
       "      <td>28</td>\n",
       "      <td>2018-07-23 06:10:39</td>\n",
       "      <td>2745</td>\n",
       "      <td>Rondo Kocmyrzowskie im. Ks. Gorzelanego</td>\n",
       "      <td>21</td>\n",
       "      <td>Kopiec Wandy</td>\n",
       "      <td>2018-07-23 06:09:00</td>\n",
       "      <td>NaN</td>\n",
       "      <td>6351558574044883205</td>\n",
       "      <td>PLANNED</td>\n",
       "      <td>1</td>\n",
       "      <td>7.0</td>\n",
       "    </tr>\n",
       "    <tr>\n",
       "      <th>772</th>\n",
       "      <td>31</td>\n",
       "      <td>2018-07-23 06:11:43</td>\n",
       "      <td>418</td>\n",
       "      <td>Os.Zgody</td>\n",
       "      <td>21</td>\n",
       "      <td>Kopiec Wandy</td>\n",
       "      <td>2018-07-23 06:10:00</td>\n",
       "      <td>NaN</td>\n",
       "      <td>6351558574044883205</td>\n",
       "      <td>PLANNED</td>\n",
       "      <td>1</td>\n",
       "      <td>8.0</td>\n",
       "    </tr>\n",
       "    <tr>\n",
       "      <th>1007</th>\n",
       "      <td>40</td>\n",
       "      <td>2018-07-23 06:14:58</td>\n",
       "      <td>2744</td>\n",
       "      <td>Plac Centralny im. R.Reagana</td>\n",
       "      <td>21</td>\n",
       "      <td>Kopiec Wandy</td>\n",
       "      <td>2018-07-23 06:13:00</td>\n",
       "      <td>NaN</td>\n",
       "      <td>6351558574044883205</td>\n",
       "      <td>PLANNED</td>\n",
       "      <td>1</td>\n",
       "      <td>9.0</td>\n",
       "    </tr>\n",
       "    <tr>\n",
       "      <th>1137</th>\n",
       "      <td>45</td>\n",
       "      <td>2018-07-23 06:16:49</td>\n",
       "      <td>423</td>\n",
       "      <td>Struga</td>\n",
       "      <td>21</td>\n",
       "      <td>Kopiec Wandy</td>\n",
       "      <td>2018-07-23 06:15:00</td>\n",
       "      <td>NaN</td>\n",
       "      <td>6351558574044883205</td>\n",
       "      <td>PLANNED</td>\n",
       "      <td>1</td>\n",
       "      <td>10.0</td>\n",
       "    </tr>\n",
       "    <tr>\n",
       "      <th>1561</th>\n",
       "      <td>61</td>\n",
       "      <td>2018-07-23 06:22:46</td>\n",
       "      <td>459</td>\n",
       "      <td>Kombinat</td>\n",
       "      <td>21</td>\n",
       "      <td>Kopiec Wandy</td>\n",
       "      <td>2018-07-23 06:21:00</td>\n",
       "      <td>NaN</td>\n",
       "      <td>6351558574044883205</td>\n",
       "      <td>PLANNED</td>\n",
       "      <td>1</td>\n",
       "      <td>11.0</td>\n",
       "    </tr>\n",
       "  </tbody>\n",
       "</table>\n",
       "</div>"
      ],
      "text/plain": [
       "      index           time_stamp  stop  \\\n",
       "0         1  2018-07-23 06:00:45   378   \n",
       "70        3  2018-07-23 06:01:42   379   \n",
       "135       6  2018-07-23 06:02:46   382   \n",
       "284      12  2018-07-23 06:04:54   388   \n",
       "414      17  2018-07-23 06:06:40  2539   \n",
       "493      20  2018-07-23 06:07:43   392   \n",
       "697      28  2018-07-23 06:10:39  2745   \n",
       "772      31  2018-07-23 06:11:43   418   \n",
       "1007     40  2018-07-23 06:14:58  2744   \n",
       "1137     45  2018-07-23 06:16:49   423   \n",
       "1561     61  2018-07-23 06:22:46   459   \n",
       "\n",
       "                                     stopName  number     direction  \\\n",
       "0                                  Os.Piastów      21  Kopiec Wandy   \n",
       "70                          Piasta Kołodzieja      21  Kopiec Wandy   \n",
       "135                                 Kleeberga      21  Kopiec Wandy   \n",
       "284                             Dunikowskiego      21  Kopiec Wandy   \n",
       "414                         Rondo Hipokratesa      21  Kopiec Wandy   \n",
       "493                                  DH Wanda      21  Kopiec Wandy   \n",
       "697   Rondo Kocmyrzowskie im. Ks. Gorzelanego      21  Kopiec Wandy   \n",
       "772                                  Os.Zgody      21  Kopiec Wandy   \n",
       "1007             Plac Centralny im. R.Reagana      21  Kopiec Wandy   \n",
       "1137                                   Struga      21  Kopiec Wandy   \n",
       "1561                                 Kombinat      21  Kopiec Wandy   \n",
       "\n",
       "              plannedTime  vehicleId               tripId   status  delay  \\\n",
       "0     2018-07-23 05:59:00        NaN  6351558574044883205  PLANNED      1   \n",
       "70    2018-07-23 06:00:00        NaN  6351558574044883205  PLANNED      1   \n",
       "135   2018-07-23 06:01:00        NaN  6351558574044883205  PLANNED      1   \n",
       "284   2018-07-23 06:03:00        NaN  6351558574044883205  PLANNED      1   \n",
       "414   2018-07-23 06:05:00        NaN  6351558574044883205  PLANNED      1   \n",
       "493   2018-07-23 06:06:00        NaN  6351558574044883205  PLANNED      1   \n",
       "697   2018-07-23 06:09:00        NaN  6351558574044883205  PLANNED      1   \n",
       "772   2018-07-23 06:10:00        NaN  6351558574044883205  PLANNED      1   \n",
       "1007  2018-07-23 06:13:00        NaN  6351558574044883205  PLANNED      1   \n",
       "1137  2018-07-23 06:15:00        NaN  6351558574044883205  PLANNED      1   \n",
       "1561  2018-07-23 06:21:00        NaN  6351558574044883205  PLANNED      1   \n",
       "\n",
       "      seq_num  \n",
       "0         1.0  \n",
       "70        2.0  \n",
       "135       3.0  \n",
       "284       4.0  \n",
       "414       5.0  \n",
       "493       6.0  \n",
       "697       7.0  \n",
       "772       8.0  \n",
       "1007      9.0  \n",
       "1137     10.0  \n",
       "1561     11.0  "
      ]
     },
     "execution_count": 3,
     "metadata": {},
     "output_type": "execute_result"
    }
   ],
   "source": [
    "df [df.tripId == 6351558574044883205 ]"
   ]
  },
  {
   "cell_type": "markdown",
   "metadata": {},
   "source": [
    "### Showing different values in delay column with the frequency"
   ]
  },
  {
   "cell_type": "code",
   "execution_count": 5,
   "metadata": {},
   "outputs": [
    {
     "data": {
      "text/plain": [
       "0     0.414514\n",
       "1     0.357610\n",
       "2     0.119549\n",
       "3     0.056005\n",
       "4     0.026023\n",
       "5     0.012583\n",
       "6     0.005742\n",
       "7     0.003386\n",
       "8     0.001479\n",
       "9     0.001078\n",
       "10    0.000857\n",
       "11    0.000408\n",
       "14    0.000249\n",
       "12    0.000235\n",
       "13    0.000166\n",
       "15    0.000076\n",
       "16    0.000021\n",
       "19    0.000014\n",
       "18    0.000007\n",
       "Name: delay, dtype: float64"
      ]
     },
     "execution_count": 5,
     "metadata": {},
     "output_type": "execute_result"
    }
   ],
   "source": [
    "df.delay.value_counts(normalize=True)"
   ]
  },
  {
   "cell_type": "code",
   "execution_count": 7,
   "metadata": {},
   "outputs": [
    {
     "data": {
      "image/png": "[encoded data removed]",
      "text/plain": [
       "<Figure size 432x288 with 1 Axes>"
      ]
     },
     "metadata": {
      "needs_background": "light"
     },
     "output_type": "display_data"
    }
   ],
   "source": [
    "df.delay.hist(bins=15);"
   ]
  },
  {
   "cell_type": "markdown",
   "metadata": {},
   "source": [
    "### Viewing data"
   ]
  },
  {
   "cell_type": "code",
   "execution_count": 8,
   "metadata": {},
   "outputs": [
    {
     "data": {
      "text/plain": [
       "count    144719.000000\n",
       "mean          1.034785\n",
       "std           1.352726\n",
       "min           0.000000\n",
       "25%           0.000000\n",
       "50%           1.000000\n",
       "75%           1.000000\n",
       "max          19.000000\n",
       "Name: delay, dtype: float64"
      ]
     },
     "execution_count": 8,
     "metadata": {},
     "output_type": "execute_result"
    }
   ],
   "source": [
    "df.delay.describe()"
   ]
  },
  {
   "cell_type": "code",
   "execution_count": 9,
   "metadata": {},
   "outputs": [
    {
     "data": {
      "text/plain": [
       "Index(['index', 'time_stamp', 'stop', 'stopName', 'number', 'direction',\n",
       "       'plannedTime', 'vehicleId', 'tripId', 'status', 'delay', 'seq_num'],\n",
       "      dtype='object')"
      ]
     },
     "execution_count": 9,
     "metadata": {},
     "output_type": "execute_result"
    }
   ],
   "source": [
    "df.columns"
   ]
  },
  {
   "cell_type": "code",
   "execution_count": 10,
   "metadata": {},
   "outputs": [
    {
     "data": {
      "text/plain": [
       "Bronowice Małe                 16156\n",
       "Krowodrza Górka                14574\n",
       "Czerwone Maki P+R              13705\n",
       "Nowy Bieżanów P+R              12391\n",
       "Wzgórza K.                     10356\n",
       "Borek Fałęcki                   9711\n",
       "Salwator                        8971\n",
       "Mistrzejowice                   8775\n",
       "Kurdwanów P+R                   8212\n",
       "Os.Piastów                      7855\n",
       "Kopiec Wandy                    6000\n",
       "Mały Płaszów                    5868\n",
       "Bronowice                       5033\n",
       "Prokocim                        3406\n",
       "Cichy Kącik                     3310\n",
       "Walcownia                       3309\n",
       "Łagiewniki                      2848\n",
       "Dworzec Tow.                    2344\n",
       "Cm. Rakowicki                   1036\n",
       "Kombinat                         805\n",
       "Plac Centralny im.R.Reagana       54\n",
       "Name: direction, dtype: int64"
      ]
     },
     "execution_count": 10,
     "metadata": {},
     "output_type": "execute_result"
    }
   ],
   "source": [
    "df['direction'].value_counts()"
   ]
  },
  {
   "cell_type": "code",
   "execution_count": 12,
   "metadata": {},
   "outputs": [
    {
     "data": {
      "text/plain": [
       "array([0, 1, 2, ..., 5, 5, 5])"
      ]
     },
     "execution_count": 12,
     "metadata": {},
     "output_type": "execute_result"
    }
   ],
   "source": [
    "# we want to normalize the format of data\n",
    "df.apply(lambda x: '{} {}'.format(x['number'], x['direction']), axis=1).factorize()[0]\n"
   ]
  },
  {
   "cell_type": "code",
   "execution_count": 13,
   "metadata": {},
   "outputs": [
    {
     "name": "stdout",
     "output_type": "stream",
     "text": [
      "<class 'pandas.core.frame.DataFrame'>\n",
      "Int64Index: 144719 entries, 0 to 73201\n",
      "Data columns (total 1 columns):\n",
      " #   Column       Non-Null Count   Dtype         \n",
      "---  ------       --------------   -----         \n",
      " 0   plannedTime  144719 non-null  datetime64[ns]\n",
      "dtypes: datetime64[ns](1)\n",
      "memory usage: 2.2 MB\n"
     ]
    }
   ],
   "source": [
    "df['plannedTime'] = pd.to_datetime( df['plannedTime'] ) #convert values in plannedTime column to datatime\n",
    "df[['plannedTime']].info()\n",
    "\n",
    "df['hour'] = df['plannedTime'].dt.hour #assign an hour from plannedTime to new column"
   ]
  },
  {
   "cell_type": "code",
   "execution_count": 14,
   "metadata": {},
   "outputs": [
    {
     "data": {
      "text/plain": [
       "(-49.730905331158446, 2.824042967729322)"
      ]
     },
     "execution_count": 14,
     "metadata": {},
     "output_type": "execute_result"
    }
   ],
   "source": [
    "# delay in seconds\n",
    "df['delay_secs'] = df['delay'].map(lambda x: x*60)\n",
    "# normalize the format of value in direction column\n",
    "df['direction_cat'] = df['direction'].factorize()[0]\n",
    "# assign -1 to not available value \n",
    "df['vehicleId'].fillna(-1, inplace=True)\n",
    "df['seq_num'].fillna(-1, inplace=True)\n",
    "\n",
    "# function to combine value from number and direction column\n",
    "def gen_id_num_direction(x):\n",
    "    return '{} {}'.format(x['number'], x['direction'])\n",
    "\n",
    "df['num_dir'] = df.apply(gen_id_num_direction, axis=1).factorize()[0]\n",
    "\n",
    "# function to combine value from stop and direction column\n",
    "def gen_id_stop_direction(x):\n",
    "    return '{} {}'.format(x['stop'], x['direction'])\n",
    "\n",
    "df['stop_dir'] = df.apply(gen_id_stop_direction, axis=1).factorize()[0]\n",
    "\n",
    "\n",
    "feats = ['number', \n",
    "         'stop', \n",
    "         'direction_cat', \n",
    "         'vehicleId', \n",
    "         'seq_num',\n",
    "         'num_dir',\n",
    "         'stop_dir',\n",
    "         'hour'\n",
    "        ]\n",
    "\n",
    "X = df[ feats ].values\n",
    "y = df['delay_secs'].values\n",
    "\n",
    "model = DecisionTreeRegressor(max_depth=10, random_state=0)\n",
    "scores = cross_val_score(model, X, y, cv=3, scoring='neg_mean_absolute_error')\n",
    "np.mean(scores), np.std(scores)\n"
   ]
  },
  {
   "cell_type": "markdown",
   "metadata": {},
   "source": [
    "y_pred => [0, 3, 2]\n",
    "\n",
    "y_test => [1, 2, 0]\n",
    "\n",
    "error => [1, 1, 2]"
   ]
  }
 ],
 "metadata": {
  "kernelspec": {
   "display_name": "Python 3",
   "language": "python",
   "name": "python3"
  },
  "language_info": {
   "codemirror_mode": {
    "name": "ipython",
    "version": 3
   },
   "file_extension": ".py",
   "mimetype": "text/x-python",
   "name": "python",
   "nbconvert_exporter": "python",
   "pygments_lexer": "ipython3",
   "version": "3.6.7"
  }
 },
 "nbformat": 4,
 "nbformat_minor": 2
}
